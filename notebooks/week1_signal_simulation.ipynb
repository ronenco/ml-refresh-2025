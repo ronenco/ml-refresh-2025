{
 "cells": [
  {
   "cell_type": "code",
   "execution_count": null,
   "id": "e5d2739a",
   "metadata": {},
   "outputs": [
    {
     "ename": "SyntaxError",
     "evalue": "expected ':' (603888614.py, line 6)",
     "output_type": "error",
     "traceback": [
      "\u001b[0;36m  Cell \u001b[0;32mIn[3], line 6\u001b[0;36m\u001b[0m\n\u001b[0;31m    def generate_iq_samples(freq=1000, fs=10_000, duration=1.0)\u001b[0m\n\u001b[0m                                                               ^\u001b[0m\n\u001b[0;31mSyntaxError\u001b[0m\u001b[0;31m:\u001b[0m expected ':'\n"
     ]
    }
   ],
   "source": [
    "import numpy as np\n",
    "import matplotlib.pyplot as plt\n",
    "\n",
    "# This function generates a single tone in the I/Q domain given a duration in seconds (duration), a frequency\n",
    "# for the tone (freq), and the sampling rate (fs). It gives the time (t) and the samples in complex.\n",
    "def generate_iq_samples(freq=1000, fs=10_000, duration=1.0):\n",
    "    t = np.arrange(0, duration, 1/fs)\n",
    "    I = np.cos(2 * np.pi * freq * t)\n",
    "    Q = np.sin(2 * np.pi * freq * t)\n",
    "    return t, I + 1j * Q\n",
    "\n",
    "# Example on how to sample an I/Q data for a 1Khz tone:\n",
    "t, iq = generate_iq_samples();\n",
    "plt.plot(t[:1000], iq.real[:1000], label=I)\n",
    "plt.plot(t[:1000], iq.imag[:1000], label=Q)\n",
    "plt.title(\"Clean I/Q Signal\")\n",
    "plt.legend()\n",
    "plt.shows"
   ]
  }
 ],
 "metadata": {
  "kernelspec": {
   "display_name": "ml",
   "language": "python",
   "name": "python3"
  },
  "language_info": {
   "codemirror_mode": {
    "name": "ipython",
    "version": 3
   },
   "file_extension": ".py",
   "mimetype": "text/x-python",
   "name": "python",
   "nbconvert_exporter": "python",
   "pygments_lexer": "ipython3",
   "version": "3.10.16"
  }
 },
 "nbformat": 4,
 "nbformat_minor": 5
}
